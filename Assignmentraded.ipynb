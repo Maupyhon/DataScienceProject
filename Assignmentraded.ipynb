{
 "cells": [
  {
   "cell_type": "markdown",
   "metadata": {
    "collapsed": true
   },
   "source": [
    "# My Jupyter Notebook on IBM Watson Studio"
   ]
  },
  {
   "cell_type": "markdown",
   "metadata": {},
   "source": [
    "## Ifeoma Maureen Nzekwe\n",
    " \n",
    "- Data Scientist"
   ]
  },
  {
   "cell_type": "markdown",
   "metadata": {},
   "source": [
    "*I want to be a datascientist because i want to solve data related problems.*"
   ]
  },
  {
   "cell_type": "markdown",
   "metadata": {},
   "source": [
    " ### This code is ment to add two 1 plus 1 and display the result"
   ]
  },
  {
   "cell_type": "code",
   "execution_count": 2,
   "metadata": {},
   "outputs": [
    {
     "name": "stdout",
     "output_type": "stream",
     "text": [
      "2\n"
     ]
    }
   ],
   "source": [
    "print(1+1)"
   ]
  },
  {
   "cell_type": "markdown",
   "metadata": {},
   "source": [
    "___This is a horizontal list___"
   ]
  },
  {
   "cell_type": "markdown",
   "metadata": {},
   "source": [
    "[click me](http://gmail.com)\n",
    "\n",
    "1. Data\n",
    "2. Pipeline\n",
    "3. Machine Learning\n",
    "         1. Supervised Learning\n",
    "         2. Unsupervised Learning\n",
    "         \n",
    "         \n",
    "| Machine Learning| Supervised | Unsupervised |\n",
    "| :- | -: | :-: |\n",
    "| Types | Regression | Logistic Regression"
   ]
  },
  {
   "cell_type": "code",
   "execution_count": null,
   "metadata": {},
   "outputs": [],
   "source": []
  }
 ],
 "metadata": {
  "kernelspec": {
   "display_name": "Python 3.10",
   "language": "python",
   "name": "python3"
  },
  "language_info": {
   "codemirror_mode": {
    "name": "ipython",
    "version": 3
   },
   "file_extension": ".py",
   "mimetype": "text/x-python",
   "name": "python",
   "nbconvert_exporter": "python",
   "pygments_lexer": "ipython3",
   "version": "3.10.6"
  }
 },
 "nbformat": 4,
 "nbformat_minor": 1
}
